{
 "cells": [
  {
   "cell_type": "code",
   "execution_count": 1,
   "id": "d029ac4d",
   "metadata": {},
   "outputs": [],
   "source": [
    "import requests\n",
    "from bs4 import BeautifulSoup"
   ]
  },
  {
   "cell_type": "code",
   "execution_count": 10,
   "id": "f49b48bc",
   "metadata": {},
   "outputs": [
    {
     "data": {
      "text/plain": [
       "'Experienced'"
      ]
     },
     "execution_count": 10,
     "metadata": {},
     "output_type": "execute_result"
    }
   ],
   "source": [
    "experience_level = jobs[0].find_all(\"div\", class_ = 'css-1lh32fc')[0].next_sibling.text.split(\" · \")[0]\n",
    "experience_level"
   ]
  },
  {
   "cell_type": "code",
   "execution_count": 2,
   "id": "dbb9dc98",
   "metadata": {},
   "outputs": [
    {
     "data": {
      "text/plain": [
       "<Response [200]>"
      ]
     },
     "execution_count": 2,
     "metadata": {},
     "output_type": "execute_result"
    }
   ],
   "source": [
    "request = requests.get(\"https://wuzzuf.net/search/jobs/?a=navbl&q=&start=1\")\n",
    "request "
   ]
  },
  {
   "cell_type": "code",
   "execution_count": 3,
   "id": "c2785595",
   "metadata": {},
   "outputs": [],
   "source": [
    "content = request.content"
   ]
  },
  {
   "cell_type": "code",
   "execution_count": 4,
   "id": "b93e05e8",
   "metadata": {},
   "outputs": [],
   "source": [
    "soup = BeautifulSoup(content, \"html.parser\")\n"
   ]
  },
  {
   "cell_type": "code",
   "execution_count": 5,
   "id": "0b62b9f2",
   "metadata": {},
   "outputs": [],
   "source": [
    "jobs = soup.find_all(\"div\", class_ = \"css-1gatmva e1v1l3u10\")"
   ]
  },
  {
   "cell_type": "code",
   "execution_count": 6,
   "id": "5987c828",
   "metadata": {},
   "outputs": [
    {
     "data": {
      "text/plain": [
       "'Front Desk Specialist'"
      ]
     },
     "execution_count": 6,
     "metadata": {},
     "output_type": "execute_result"
    }
   ],
   "source": [
    "job_name = jobs[1].find_all('h2', class_ = \"css-m604qf\")[0].text\n",
    "job_name"
   ]
  },
  {
   "cell_type": "code",
   "execution_count": 7,
   "id": "057cd1b8",
   "metadata": {},
   "outputs": [
    {
     "data": {
      "text/plain": [
       "'Hi-Q Academy'"
      ]
     },
     "execution_count": 7,
     "metadata": {},
     "output_type": "execute_result"
    }
   ],
   "source": [
    "company_name = jobs[0].find_all('div', class_ = 'css-d7j1kk')[0].text.split(\" - \")[0]\n",
    "company_name"
   ]
  },
  {
   "cell_type": "code",
   "execution_count": 8,
   "id": "8045a928",
   "metadata": {},
   "outputs": [
    {
     "data": {
      "text/plain": [
       "'Nasr City'"
      ]
     },
     "execution_count": 8,
     "metadata": {},
     "output_type": "execute_result"
    }
   ],
   "source": [
    "location = jobs[0].find_all(\"span\", class_ = 'css-5wys0k')[0].text.split(\", \")[0]\n",
    "location"
   ]
  },
  {
   "cell_type": "code",
   "execution_count": 9,
   "id": "710d70f8",
   "metadata": {},
   "outputs": [
    {
     "data": {
      "text/plain": [
       "'Part Time'"
      ]
     },
     "execution_count": 9,
     "metadata": {},
     "output_type": "execute_result"
    }
   ],
   "source": [
    "job_type = jobs[0].find_all('span', class_ = \"css-1ve4b75 eoyjyou0\")[0].text\n",
    "job_type "
   ]
  },
  {
   "cell_type": "code",
   "execution_count": 11,
   "id": "69852799",
   "metadata": {},
   "outputs": [
    {
     "data": {
      "text/plain": [
       "'2 - 4 Yrs of Exp'"
      ]
     },
     "execution_count": 11,
     "metadata": {},
     "output_type": "execute_result"
    }
   ],
   "source": [
    "experience_years = jobs[0].find_all(\"div\", class_ = 'css-1lh32fc')[0].next_sibling.text.split(\" · \")[1]\n",
    "experience_years"
   ]
  },
  {
   "cell_type": "code",
   "execution_count": 12,
   "id": "0d5aab66",
   "metadata": {},
   "outputs": [
    {
     "data": {
      "text/plain": [
       "'Education/Teaching English Education English Instructor Teaching Nasrcity Instructor'"
      ]
     },
     "execution_count": 12,
     "metadata": {},
     "output_type": "execute_result"
    }
   ],
   "source": [
    "skills = \" \".join(jobs[0].find_all(\"div\", class_ = 'css-1lh32fc')[0].next_sibling.text.split(\" · \")[2:])\n",
    "skills"
   ]
  },
  {
   "cell_type": "code",
   "execution_count": 13,
   "id": "48bcc988",
   "metadata": {},
   "outputs": [],
   "source": [
    "import pandas as pd "
   ]
  },
  {
   "cell_type": "code",
   "execution_count": 14,
   "id": "6e342314",
   "metadata": {},
   "outputs": [
    {
     "data": {
      "text/html": [
       "<div>\n",
       "<style scoped>\n",
       "    .dataframe tbody tr th:only-of-type {\n",
       "        vertical-align: middle;\n",
       "    }\n",
       "\n",
       "    .dataframe tbody tr th {\n",
       "        vertical-align: top;\n",
       "    }\n",
       "\n",
       "    .dataframe thead th {\n",
       "        text-align: right;\n",
       "    }\n",
       "</style>\n",
       "<table border=\"1\" class=\"dataframe\">\n",
       "  <thead>\n",
       "    <tr style=\"text-align: right;\">\n",
       "      <th></th>\n",
       "      <th>job_title</th>\n",
       "      <th>company_name</th>\n",
       "      <th>location</th>\n",
       "      <th>job_type</th>\n",
       "      <th>experience_level</th>\n",
       "      <th>experience_years</th>\n",
       "      <th>skills</th>\n",
       "    </tr>\n",
       "  </thead>\n",
       "  <tbody>\n",
       "  </tbody>\n",
       "</table>\n",
       "</div>"
      ],
      "text/plain": [
       "Empty DataFrame\n",
       "Columns: [job_title, company_name, location, job_type, experience_level, experience_years, skills]\n",
       "Index: []"
      ]
     },
     "execution_count": 14,
     "metadata": {},
     "output_type": "execute_result"
    }
   ],
   "source": [
    "df = pd.DataFrame(columns = [\"job_title\", \"company_name\", \"location\", \"job_type\",\n",
    "                             \"experience_level\", \"experience_years\", \"skills\"])\n",
    "df"
   ]
  },
  {
   "cell_type": "code",
   "execution_count": 15,
   "id": "b4db5b1d",
   "metadata": {},
   "outputs": [],
   "source": [
    "for job in jobs: \n",
    "    job_name = job.find_all('h2', class_ = \"css-m604qf\")[0].text\n",
    "    company_name = job.find_all('div', class_ = 'css-d7j1kk')[0].text.split(\" - \")[0]\n",
    "    location = job.find_all(\"span\", class_ = 'css-5wys0k')[0].text.split(\", \")[0]\n",
    "    job_type = job.find_all('span', class_ = \"css-1ve4b75 eoyjyou0\")[0].text\n",
    "    experience_level = job.find_all(\"div\", class_ = 'css-1lh32fc')[0].next_sibling.text.split(\" · \")[0]\n",
    "    experience_years = job.find_all(\"div\", class_ = 'css-1lh32fc')[0].next_sibling.text.split(\" · \")[1]\n",
    "    skills = \" \".join(job.find_all(\"div\", class_ = 'css-1lh32fc')[0].next_sibling.text.split(\" · \")[2:])\n",
    "    \n",
    "    df.loc[len(df.index)] = [job_name, company_name, location, job_type, experience_level, experience_years, skills]"
   ]
  },
  {
   "cell_type": "code",
   "execution_count": 16,
   "id": "2480984c",
   "metadata": {},
   "outputs": [],
   "source": [
    "for i in range(200): \n",
    "    request = requests.get(f\"https://wuzzuf.net/search/jobs/?a=navbl&q=&start={1}\")\n",
    "    content = request.content\n",
    "    soup = BeautifulSoup(content, \"html.parser\")\n",
    "    jobs = soup.find_all(\"div\", class_ = \"css-1gatmva e1v1l3u10\")\n",
    "    for job in jobs: \n",
    "        job_name = job.find_all('h2', class_ = \"css-m604qf\")[0].text\n",
    "        company_name = job.find_all('div', class_ = 'css-d7j1kk')[0].text.split(\" - \")[0]\n",
    "        location = job.find_all(\"span\", class_ = 'css-5wys0k')[0].text.split(\", \")[0]\n",
    "        job_type = job.find_all('span', class_ = \"css-1ve4b75 eoyjyou0\")[0].text\n",
    "        experience_level = job.find_all(\"div\", class_ = 'css-1lh32fc')[0].next_sibling.text.split(\" · \")[0]\n",
    "        experience_years = job.find_all(\"div\", class_ = 'css-1lh32fc')[0].next_sibling.text.split(\" · \")[1]\n",
    "        skills = \" \".join(job.find_all(\"div\", class_ = 'css-1lh32fc')[0].next_sibling.text.split(\" · \")[2:])\n",
    "\n",
    "        df.loc[len(df.index)] = [job_name, company_name, location, job_type, experience_level, experience_years, skills]"
   ]
  },
  {
   "cell_type": "code",
   "execution_count": 19,
   "id": "0b761dad",
   "metadata": {},
   "outputs": [
    {
     "data": {
      "text/html": [
       "<div>\n",
       "<style scoped>\n",
       "    .dataframe tbody tr th:only-of-type {\n",
       "        vertical-align: middle;\n",
       "    }\n",
       "\n",
       "    .dataframe tbody tr th {\n",
       "        vertical-align: top;\n",
       "    }\n",
       "\n",
       "    .dataframe thead th {\n",
       "        text-align: right;\n",
       "    }\n",
       "</style>\n",
       "<table border=\"1\" class=\"dataframe\">\n",
       "  <thead>\n",
       "    <tr style=\"text-align: right;\">\n",
       "      <th></th>\n",
       "      <th>job_title</th>\n",
       "      <th>company_name</th>\n",
       "      <th>location</th>\n",
       "      <th>job_type</th>\n",
       "      <th>experience_level</th>\n",
       "      <th>experience_years</th>\n",
       "      <th>skills</th>\n",
       "    </tr>\n",
       "  </thead>\n",
       "  <tbody>\n",
       "    <tr>\n",
       "      <th>0</th>\n",
       "      <td>Onsite English Instructor</td>\n",
       "      <td>Hi-Q Academy</td>\n",
       "      <td>Nasr City</td>\n",
       "      <td>Part Time</td>\n",
       "      <td>Experienced</td>\n",
       "      <td>2 - 4 Yrs of Exp</td>\n",
       "      <td>Education/Teaching English Education English I...</td>\n",
       "    </tr>\n",
       "    <tr>\n",
       "      <th>1</th>\n",
       "      <td>Front Desk Specialist</td>\n",
       "      <td>Shiny White Dental Center</td>\n",
       "      <td>Sheikh Zayed</td>\n",
       "      <td>Full Time</td>\n",
       "      <td>Entry Level</td>\n",
       "      <td>0 - 4 Yrs of Exp</td>\n",
       "      <td>females_only Administration Administration Com...</td>\n",
       "    </tr>\n",
       "    <tr>\n",
       "      <th>2</th>\n",
       "      <td>Property Advisor</td>\n",
       "      <td>Mezyan Development</td>\n",
       "      <td>New Cairo</td>\n",
       "      <td>Full Time</td>\n",
       "      <td>Experienced</td>\n",
       "      <td>1 - 2 Yrs of Exp</td>\n",
       "      <td>Sales/Retail Real Estate Sales Sales Consulting</td>\n",
       "    </tr>\n",
       "    <tr>\n",
       "      <th>3</th>\n",
       "      <td>E-commerce Marketplace Manager</td>\n",
       "      <td>Carina Wear</td>\n",
       "      <td>New Cairo</td>\n",
       "      <td>Full Time</td>\n",
       "      <td>Manager</td>\n",
       "      <td>7 - 10 Yrs of Exp</td>\n",
       "      <td>Operations/Management Marketing/PR/Advertising...</td>\n",
       "    </tr>\n",
       "    <tr>\n",
       "      <th>4</th>\n",
       "      <td>Backend Developer</td>\n",
       "      <td>intella</td>\n",
       "      <td>Dokki</td>\n",
       "      <td>Full Time</td>\n",
       "      <td>Experienced</td>\n",
       "      <td>3 - 5 Yrs of Exp</td>\n",
       "      <td>IT/Software Development Engineering - Telecom/...</td>\n",
       "    </tr>\n",
       "    <tr>\n",
       "      <th>...</th>\n",
       "      <td>...</td>\n",
       "      <td>...</td>\n",
       "      <td>...</td>\n",
       "      <td>...</td>\n",
       "      <td>...</td>\n",
       "      <td>...</td>\n",
       "      <td>...</td>\n",
       "    </tr>\n",
       "    <tr>\n",
       "      <th>3010</th>\n",
       "      <td>Treasurer</td>\n",
       "      <td>Egypt Gold</td>\n",
       "      <td>Azarita</td>\n",
       "      <td>Full Time</td>\n",
       "      <td>Experienced</td>\n",
       "      <td>3 - 7 Yrs of Exp</td>\n",
       "      <td>Accounting/Finance Accounting Commerce Finance...</td>\n",
       "    </tr>\n",
       "    <tr>\n",
       "      <th>3011</th>\n",
       "      <td>Social Media Coordinator</td>\n",
       "      <td>Deutschland Technology Limited</td>\n",
       "      <td>Obour City</td>\n",
       "      <td>Full Time</td>\n",
       "      <td>Experienced</td>\n",
       "      <td>1 - 2 Yrs of Exp</td>\n",
       "      <td>Marketing/PR/Advertising Communication skills ...</td>\n",
       "    </tr>\n",
       "    <tr>\n",
       "      <th>3012</th>\n",
       "      <td>Global Crowd-Sourcing Specialist</td>\n",
       "      <td>LxT</td>\n",
       "      <td>Agouza</td>\n",
       "      <td>Full Time</td>\n",
       "      <td>Experienced</td>\n",
       "      <td>3 - 5 Yrs of Exp</td>\n",
       "      <td>Project/Program Management Mass Hiring Sourcin...</td>\n",
       "    </tr>\n",
       "    <tr>\n",
       "      <th>3013</th>\n",
       "      <td>Senior Testing Automation Engineer</td>\n",
       "      <td>LxT</td>\n",
       "      <td>Agouza</td>\n",
       "      <td>Full Time</td>\n",
       "      <td>Experienced</td>\n",
       "      <td>3 - 5 Yrs of Exp</td>\n",
       "      <td>IT/Software Development Software Development S...</td>\n",
       "    </tr>\n",
       "    <tr>\n",
       "      <th>3014</th>\n",
       "      <td>Senior Backend Engineer</td>\n",
       "      <td>LxT</td>\n",
       "      <td>Agouza</td>\n",
       "      <td>Full Time</td>\n",
       "      <td>Experienced</td>\n",
       "      <td>3 - 5 Yrs of Exp</td>\n",
       "      <td>IT/Software Development Software Development P...</td>\n",
       "    </tr>\n",
       "  </tbody>\n",
       "</table>\n",
       "<p>3015 rows × 7 columns</p>\n",
       "</div>"
      ],
      "text/plain": [
       "                               job_title                    company_name  \\\n",
       "0              Onsite English Instructor                    Hi-Q Academy   \n",
       "1                  Front Desk Specialist      Shiny White Dental Center    \n",
       "2                       Property Advisor              Mezyan Development   \n",
       "3         E-commerce Marketplace Manager                     Carina Wear   \n",
       "4                      Backend Developer                         intella   \n",
       "...                                  ...                             ...   \n",
       "3010                           Treasurer                     Egypt Gold    \n",
       "3011            Social Media Coordinator  Deutschland Technology Limited   \n",
       "3012    Global Crowd-Sourcing Specialist                             LxT   \n",
       "3013  Senior Testing Automation Engineer                             LxT   \n",
       "3014             Senior Backend Engineer                             LxT   \n",
       "\n",
       "          location   job_type experience_level   experience_years  \\\n",
       "0        Nasr City  Part Time      Experienced   2 - 4 Yrs of Exp   \n",
       "1     Sheikh Zayed  Full Time      Entry Level   0 - 4 Yrs of Exp   \n",
       "2        New Cairo  Full Time      Experienced   1 - 2 Yrs of Exp   \n",
       "3        New Cairo  Full Time          Manager  7 - 10 Yrs of Exp   \n",
       "4            Dokki  Full Time      Experienced   3 - 5 Yrs of Exp   \n",
       "...            ...        ...              ...                ...   \n",
       "3010       Azarita  Full Time      Experienced   3 - 7 Yrs of Exp   \n",
       "3011    Obour City  Full Time      Experienced   1 - 2 Yrs of Exp   \n",
       "3012        Agouza  Full Time      Experienced   3 - 5 Yrs of Exp   \n",
       "3013        Agouza  Full Time      Experienced   3 - 5 Yrs of Exp   \n",
       "3014        Agouza  Full Time      Experienced   3 - 5 Yrs of Exp   \n",
       "\n",
       "                                                 skills  \n",
       "0     Education/Teaching English Education English I...  \n",
       "1     females_only Administration Administration Com...  \n",
       "2       Sales/Retail Real Estate Sales Sales Consulting  \n",
       "3     Operations/Management Marketing/PR/Advertising...  \n",
       "4     IT/Software Development Engineering - Telecom/...  \n",
       "...                                                 ...  \n",
       "3010  Accounting/Finance Accounting Commerce Finance...  \n",
       "3011  Marketing/PR/Advertising Communication skills ...  \n",
       "3012  Project/Program Management Mass Hiring Sourcin...  \n",
       "3013  IT/Software Development Software Development S...  \n",
       "3014  IT/Software Development Software Development P...  \n",
       "\n",
       "[3015 rows x 7 columns]"
      ]
     },
     "execution_count": 19,
     "metadata": {},
     "output_type": "execute_result"
    }
   ],
   "source": [
    "df"
   ]
  },
  {
   "cell_type": "code",
   "execution_count": 20,
   "id": "2a18017c",
   "metadata": {},
   "outputs": [],
   "source": [
    "df.to_csv(\"Wuzzuf.csv\")"
   ]
  },
  {
   "cell_type": "code",
   "execution_count": null,
   "id": "9ff33e2c",
   "metadata": {},
   "outputs": [],
   "source": []
  }
 ],
 "metadata": {
  "kernelspec": {
   "display_name": "Python 3 (ipykernel)",
   "language": "python",
   "name": "python3"
  },
  "language_info": {
   "codemirror_mode": {
    "name": "ipython",
    "version": 3
   },
   "file_extension": ".py",
   "mimetype": "text/x-python",
   "name": "python",
   "nbconvert_exporter": "python",
   "pygments_lexer": "ipython3",
   "version": "3.11.4"
  }
 },
 "nbformat": 4,
 "nbformat_minor": 5
}
